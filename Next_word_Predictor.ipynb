{
  "nbformat": 4,
  "nbformat_minor": 0,
  "metadata": {
    "colab": {
      "name": "Next_word_Predictor.ipynb",
      "provenance": [],
      "collapsed_sections": []
    },
    "kernelspec": {
      "name": "python3",
      "display_name": "Python 3"
    },
    "accelerator": "GPU"
  },
  "cells": [
    {
      "cell_type": "markdown",
      "metadata": {
        "id": "VHqkKMtp-WNu"
      },
      "source": [
        "## Natural Language Processing\n",
        "\n",
        "Natural Language Processing, or NLP for short, is broadly defined as the automatic manipulation of natural language, like speech and text, by software.  NLP application\n",
        "concerned with predicting the text given in the preceding text. Auto-complete\n",
        "or suggested responses are popular types of language prediction"
      ]
    },
    {
      "cell_type": "markdown",
      "metadata": {
        "id": "XolkA9Zg-yDS"
      },
      "source": [
        "## Preprocessing the Dataset\n",
        "\n",
        "The first step is to remove the unnecessary data \n",
        "\n"
      ]
    },
    {
      "cell_type": "code",
      "metadata": {
        "id": "tjGVDvtjL_aa"
      },
      "source": [
        "#Importing the necessary libraries\n",
        "import tensorflow as tf\n",
        "\n",
        "from tensorflow.keras.preprocessing.text import Tokenizer\n",
        "from tensorflow.keras.preprocessing.sequence import pad_sequences\n",
        "\n",
        "# Other imports for processing data\n",
        "import string\n",
        "import numpy as np\n",
        "import pandas as pd"
      ],
      "execution_count": 113,
      "outputs": []
    },
    {
      "cell_type": "code",
      "metadata": {
        "id": "cR_8R3r0ft4s"
      },
      "source": [
        "#reading the file and saving the data to list and converting the list to pandas Series\n",
        "\n",
        "file=open('/content/drive/My Drive/Colab Notebooks/Datasets/nlp.txt','r',encoding='utf8')\n",
        "lines=[]\n",
        "for i in file:\n",
        "  lines.append(i)\n",
        "\n",
        "#converting to Pandas Series\n",
        "data_file=pd.Series(lines)"
      ],
      "execution_count": 114,
      "outputs": []
    },
    {
      "cell_type": "code",
      "metadata": {
        "id": "BsMBmWfDxpE_",
        "outputId": "058398eb-daa7-4311-dc4a-35405f90ae00",
        "colab": {
          "base_uri": "https://localhost:8080/"
        }
      },
      "source": [
        "data_file"
      ],
      "execution_count": 115,
      "outputs": [
        {
          "output_type": "execute_result",
          "data": {
            "text/plain": [
              "0                                 No ,  he says now .\\n\n",
              "1                                And what did he do ?\\n\n",
              "2                                The money 's there .\\n\n",
              "3                     That was less than a year ago .\\n\n",
              "4                        But he made only the first .\\n\n",
              "                              ...                      \n",
              "56009    She said she 's not going out of the house .\\n\n",
              "56010                            It 's used by both .\\n\n",
              "56011                          If it has nt , do nt .\\n\n",
              "56012                               Now we have two .\\n\n",
              "56013                 There 's no way it could have bee\n",
              "Length: 56014, dtype: object"
            ]
          },
          "metadata": {
            "tags": []
          },
          "execution_count": 115
        }
      ]
    },
    {
      "cell_type": "code",
      "metadata": {
        "id": "vvwpQn-JMGMx"
      },
      "source": [
        "\n",
        "#Function for creating the tokenization of the input data\n",
        "def tokenizer_corpus(corpus,num_words=-1):\n",
        "  #Tokenizing\n",
        "  if num_words >-1:\n",
        "    tokenizer=Tokenizer(num_words=num_words)\n",
        "  else:\n",
        "    tokenizer=Tokenizer()\n",
        "  tokenizer.fit_on_texts(corpus)\n",
        "  \n",
        "  return tokenizer\n",
        "\n",
        "#Preprocessing of the input data and creating a corpus of the dataset\n",
        "def data_corpus(dataset):\n",
        "  #Removing Punctuatuin\n",
        "  dataset=dataset.str.replace('[{}]'.format(string.punctuation),'')\n",
        "  #converting to lowercase\n",
        "  dataset=dataset.str.lower()\n",
        "  #making one long sequence\n",
        "  dataset=dataset.str.cat()\n",
        "  corpus=dataset.split('\\n')\n",
        "  #Removing white spaces\n",
        "  for l in range(len(corpus)):\n",
        "    corpus[l]=corpus[l].rstrip()\n",
        "  #Remove empty lines\n",
        "  corpus=[l for l in corpus if l!='']\n",
        "\n",
        "  return corpus\n"
      ],
      "execution_count": 116,
      "outputs": []
    },
    {
      "cell_type": "code",
      "metadata": {
        "id": "xkr9TJymMJe3",
        "outputId": "2d80bd32-ec8f-4db8-8233-ae60437fa8a1",
        "colab": {
          "base_uri": "https://localhost:8080/"
        }
      },
      "source": [
        "#Reading the dataset of first 1000 because even if we use the complete dataset the total unique words in the dataset is around 240.\n",
        "dataset=data_file[:1000]\n",
        "#creating the corpus\n",
        "corpus=data_corpus(dataset)\n",
        "#Tokenizing the corpus\n",
        "tokenizer=tokenizer_corpus(corpus)\n",
        "\n",
        "total_words=len(tokenizer.word_index)+1\n",
        "print('Tokenization of the input data:\\n',tokenizer.word_index)\n",
        "print('\\nTotal unique words in dataset of first 1000 :\\n',total_words)"
      ],
      "execution_count": 118,
      "outputs": [
        {
          "output_type": "stream",
          "text": [
            "Tokenization of the input data:\n",
            " {'it': 1, 'to': 2, 'i': 3, 'do': 4, 'nt': 5, 'that': 6, 'he': 7, 'you': 8, 's': 9, 'the': 10, 'we': 11, 'is': 12, 'what': 13, 'said': 14, 'was': 15, 'not': 16, 'but': 17, 'know': 18, 'have': 19, 'they': 20, 'a': 21, 'this': 22, 'and': 23, 'did': 24, 'there': 25, 'be': 26, 'are': 27, 'want': 28, 'of': 29, 'time': 30, 'all': 31, 'for': 32, 'get': 33, 'in': 34, 'going': 35, 'she': 36, 'can': 37, 'go': 38, 'just': 39, 'no': 40, 'one': 41, 'would': 42, 'how': 43, 'come': 44, 'could': 45, 'like': 46, 'way': 47, 'think': 48, 'now': 49, 'will': 50, 'out': 51, 'so': 52, 'right': 53, 'people': 54, 'about': 55, 'here': 56, 'work': 57, 'them': 58, 'good': 59, 'money': 60, 'my': 61, 'does': 62, 'me': 63, 'if': 64, 'more': 65, 'had': 66, 'say': 67, 'where': 68, 'us': 69, 'life': 70, 'on': 71, 'well': 72, 'has': 73, 'much': 74, 'play': 75, 'long': 76, 'year': 77, 'been': 78, 'back': 79, 'see': 80, 'when': 81, 'never': 82, 'only': 83, 'at': 84, 'game': 85, 'as': 86, 'too': 87, 'should': 88, 'take': 89, 'last': 90, 'or': 91, 'him': 92, 'day': 93, 'who': 94, 'place': 95, 'make': 96, 'were': 97, 'with': 98, 'business': 99, 'still': 100, 'our': 101, 'some': 102, 'first': 103, 'from': 104, 'then': 105, 'any': 106, 'new': 107, 'other': 108, 'may': 109, 'team': 110, 'part': 111, 'two': 112, 'even': 113, 'best': 114, 'school': 115, 'put': 116, 'next': 117, 'man': 118, 'very': 119, 'big': 120, 'today': 121, 'home': 122, 'his': 123, 'over': 124, 'used': 125, 'her': 126, 'case': 127, 'end': 128, 'york': 129, 'made': 130, 'down': 131, 'same': 132, 'around': 133, 'city': 134, 'left': 135, 'your': 136, 'many': 137, 'most': 138, 'few': 139, 'these': 140, 'than': 141, 'up': 142, 'found': 143, 'house': 144, 'children': 145, 'show': 146, 'years': 147, 'though': 148, 'days': 149, 'family': 150, 'ago': 151, 'season': 152, 'every': 153, 'world': 154, 'use': 155, 'after': 156, 'states': 157, 'president': 158, 'might': 159, 'through': 160, 'says': 161, 'both': 162, 'into': 163, 'week': 164, 'country': 165, 'high': 166, 'because': 167, 'which': 168, 'united': 169, 'market': 170, 'their': 171, 'government': 172, 'own': 173, 'before': 174, 'another': 175, 'less': 176, 'off': 177, 'public': 178, 'second': 179, 'war': 180, 'night': 181, 'without': 182, 'also': 183, 'program': 184, 'times': 185, 'little': 186, 'three': 187, 'music': 188, 'each': 189, 'being': 190, 'those': 191, 'million': 192, 'state': 193, 'while': 194, 'an': 195, 'american': 196, 'university': 197, 'such': 198, 'national': 199, 'company': 200, 'by': 201, 'law': 202, 'office': 203, 'between': 204, 'set': 205, 'white': 206, 'court': 207, 'five': 208, 'old': 209, 'against': 210, 'women': 211, 'until': 212, 'street': 213, 'yesterday': 214, 'west': 215, 'four': 216, 'members': 217, 'several': 218, 'police': 219, 'called': 220, 'political': 221, 'john': 222, 'mr': 223, 'under': 224}\n",
            "\n",
            "Total unique words in dataset of first 1000 :\n",
            " 225\n"
          ],
          "name": "stdout"
        }
      ]
    },
    {
      "cell_type": "code",
      "metadata": {
        "id": "gTRrjKG6twm7",
        "outputId": "eaaba227-90da-41a8-f49e-5b981f2a401b",
        "colab": {
          "base_uri": "https://localhost:8080/"
        }
      },
      "source": [
        "data_file.shape"
      ],
      "execution_count": 119,
      "outputs": [
        {
          "output_type": "execute_result",
          "data": {
            "text/plain": [
              "(56014,)"
            ]
          },
          "metadata": {
            "tags": []
          },
          "execution_count": 119
        }
      ]
    },
    {
      "cell_type": "code",
      "metadata": {
        "id": "8SIe1JGeWExh",
        "outputId": "d52191d5-c4ba-49d6-ce16-526831bd524f",
        "colab": {
          "base_uri": "https://localhost:8080/",
          "height": 35
        }
      },
      "source": [
        "corpus[1]"
      ],
      "execution_count": 120,
      "outputs": [
        {
          "output_type": "execute_result",
          "data": {
            "application/vnd.google.colaboratory.intrinsic+json": {
              "type": "string"
            },
            "text/plain": [
              "'and what did he do'"
            ]
          },
          "metadata": {
            "tags": []
          },
          "execution_count": 120
        }
      ]
    },
    {
      "cell_type": "code",
      "metadata": {
        "id": "MWhT0VPtVo_s",
        "outputId": "5f811c8b-38cb-43a0-f92d-e6b44400ab38",
        "colab": {
          "base_uri": "https://localhost:8080/"
        }
      },
      "source": [
        "sequences= []\n",
        "\n",
        "for line in corpus:\n",
        "  token_list=tokenizer.texts_to_sequences([line])[0]\n",
        "  #print(token_list)\n",
        "  for i in range(1,len(token_list)):\n",
        "    n_gram_sequence=token_list[:i+1]\n",
        "    #print(n_gram_sequence)\n",
        "    sequences.append(n_gram_sequence)\n",
        "#print('sequence:',sequences)\n",
        "\n",
        "#Pad Sequences for equal input length\n",
        "max_sequence_len=max([len(seq) for seq in sequences])\n",
        "sequences=np.array(pad_sequences(sequences,maxlen=max_sequence_len,padding='pre'))\n",
        "#print(sequences)\n",
        "\n",
        "#split seq between input seq and output predicted word\n",
        "input_sequences,labels=sequences[:,:-1],sequences[:,-1]\n",
        "print('Input:\\n',input_sequences)\n",
        "print('\\nnext word\\n:',labels)\n",
        "\n",
        "#one hot encoding\n",
        "one_hot_labels=tf.keras.utils.to_categorical(labels,num_classes=total_words) \n",
        "print('\\none hot labels:\\n',one_hot_labels)"
      ],
      "execution_count": 121,
      "outputs": [
        {
          "output_type": "stream",
          "text": [
            "Input:\n",
            " [[  0   0   0 ...   0   0  40]\n",
            " [  0   0   0 ...   0  40   7]\n",
            " [  0   0   0 ...  40   7 161]\n",
            " ...\n",
            " [  0   0   0 ...   2  48  71]\n",
            " [  0   0   0 ...   0   0  17]\n",
            " [  0   0   0 ...   0  17  36]]\n",
            "\n",
            "next word\n",
            ": [  7 161  49 ...   1  36  14]\n",
            "\n",
            "one hot labels:\n",
            " [[0. 0. 0. ... 0. 0. 0.]\n",
            " [0. 0. 0. ... 0. 0. 0.]\n",
            " [0. 0. 0. ... 0. 0. 0.]\n",
            " ...\n",
            " [0. 1. 0. ... 0. 0. 0.]\n",
            " [0. 0. 0. ... 0. 0. 0.]\n",
            " [0. 0. 0. ... 0. 0. 0.]]\n"
          ],
          "name": "stdout"
        }
      ]
    },
    {
      "cell_type": "code",
      "metadata": {
        "id": "1Odu6PSPVrnX",
        "outputId": "74e23b43-82b1-4dc9-f56e-f91ff21a778a",
        "colab": {
          "base_uri": "https://localhost:8080/"
        }
      },
      "source": [
        "#Tokenizer has just single index per word\n",
        "print(tokenizer.word_index['know'])\n",
        "print(tokenizer.word_index['me'])\n",
        "#input sequnces with multiple index\n",
        "print(input_sequences[5])\n",
        "print(input_sequences[6])\n",
        "#One Hot label\n",
        "print(one_hot_labels[5])\n",
        "print(one_hot_labels[6])"
      ],
      "execution_count": 122,
      "outputs": [
        {
          "output_type": "stream",
          "text": [
            "18\n",
            "63\n",
            "[ 0  0  0  0  0  0  0  0  0  0  0  0  0  0  0  0  0  0  0 23 13 24]\n",
            "[ 0  0  0  0  0  0  0  0  0  0  0  0  0  0  0  0  0  0 23 13 24  7]\n",
            "[0. 0. 0. 0. 0. 0. 0. 1. 0. 0. 0. 0. 0. 0. 0. 0. 0. 0. 0. 0. 0. 0. 0. 0.\n",
            " 0. 0. 0. 0. 0. 0. 0. 0. 0. 0. 0. 0. 0. 0. 0. 0. 0. 0. 0. 0. 0. 0. 0. 0.\n",
            " 0. 0. 0. 0. 0. 0. 0. 0. 0. 0. 0. 0. 0. 0. 0. 0. 0. 0. 0. 0. 0. 0. 0. 0.\n",
            " 0. 0. 0. 0. 0. 0. 0. 0. 0. 0. 0. 0. 0. 0. 0. 0. 0. 0. 0. 0. 0. 0. 0. 0.\n",
            " 0. 0. 0. 0. 0. 0. 0. 0. 0. 0. 0. 0. 0. 0. 0. 0. 0. 0. 0. 0. 0. 0. 0. 0.\n",
            " 0. 0. 0. 0. 0. 0. 0. 0. 0. 0. 0. 0. 0. 0. 0. 0. 0. 0. 0. 0. 0. 0. 0. 0.\n",
            " 0. 0. 0. 0. 0. 0. 0. 0. 0. 0. 0. 0. 0. 0. 0. 0. 0. 0. 0. 0. 0. 0. 0. 0.\n",
            " 0. 0. 0. 0. 0. 0. 0. 0. 0. 0. 0. 0. 0. 0. 0. 0. 0. 0. 0. 0. 0. 0. 0. 0.\n",
            " 0. 0. 0. 0. 0. 0. 0. 0. 0. 0. 0. 0. 0. 0. 0. 0. 0. 0. 0. 0. 0. 0. 0. 0.\n",
            " 0. 0. 0. 0. 0. 0. 0. 0. 0.]\n",
            "[0. 0. 0. 0. 1. 0. 0. 0. 0. 0. 0. 0. 0. 0. 0. 0. 0. 0. 0. 0. 0. 0. 0. 0.\n",
            " 0. 0. 0. 0. 0. 0. 0. 0. 0. 0. 0. 0. 0. 0. 0. 0. 0. 0. 0. 0. 0. 0. 0. 0.\n",
            " 0. 0. 0. 0. 0. 0. 0. 0. 0. 0. 0. 0. 0. 0. 0. 0. 0. 0. 0. 0. 0. 0. 0. 0.\n",
            " 0. 0. 0. 0. 0. 0. 0. 0. 0. 0. 0. 0. 0. 0. 0. 0. 0. 0. 0. 0. 0. 0. 0. 0.\n",
            " 0. 0. 0. 0. 0. 0. 0. 0. 0. 0. 0. 0. 0. 0. 0. 0. 0. 0. 0. 0. 0. 0. 0. 0.\n",
            " 0. 0. 0. 0. 0. 0. 0. 0. 0. 0. 0. 0. 0. 0. 0. 0. 0. 0. 0. 0. 0. 0. 0. 0.\n",
            " 0. 0. 0. 0. 0. 0. 0. 0. 0. 0. 0. 0. 0. 0. 0. 0. 0. 0. 0. 0. 0. 0. 0. 0.\n",
            " 0. 0. 0. 0. 0. 0. 0. 0. 0. 0. 0. 0. 0. 0. 0. 0. 0. 0. 0. 0. 0. 0. 0. 0.\n",
            " 0. 0. 0. 0. 0. 0. 0. 0. 0. 0. 0. 0. 0. 0. 0. 0. 0. 0. 0. 0. 0. 0. 0. 0.\n",
            " 0. 0. 0. 0. 0. 0. 0. 0. 0.]\n"
          ],
          "name": "stdout"
        }
      ]
    },
    {
      "cell_type": "code",
      "metadata": {
        "id": "WR8AFarMWhW9"
      },
      "source": [
        "import keras\n",
        "from tensorflow.keras.models import Sequential\n",
        "from tensorflow.keras.layers import Dense,Embedding,Bidirectional,LSTM\n",
        "from tensorflow.keras.callbacks import ModelCheckpoint\n",
        "from tensorflow.keras.callbacks import ReduceLROnPlateau\n",
        "from tensorflow.keras.optimizers import Adam\n",
        "\n"
      ],
      "execution_count": 123,
      "outputs": []
    },
    {
      "cell_type": "code",
      "metadata": {
        "id": "-DsMsiVPWkc8"
      },
      "source": [
        "#creating the model\n",
        "model=Sequential()\n",
        "model.add(Embedding(total_words,64,input_length=max_sequence_len-1))\n",
        "model.add(LSTM(200,return_sequences=True))\n",
        "model.add(LSTM(200,return_sequences=True))\n",
        "model.add(LSTM(100))\n",
        "model.add(Dense(total_words,activation='softmax'))\n",
        "\n",
        "# code to find the best learning rate\n",
        "lr_schedule = keras.callbacks.LearningRateScheduler(\n",
        "    lambda epoch: 1e-3 * 10**(epoch / 30))\n",
        "\n",
        "optimizer = keras.optimizers.Adam(lr=1e-3)"
      ],
      "execution_count": 124,
      "outputs": []
    },
    {
      "cell_type": "code",
      "metadata": {
        "id": "vzv8bp7ra4qh"
      },
      "source": [
        ""
      ],
      "execution_count": 124,
      "outputs": []
    },
    {
      "cell_type": "code",
      "metadata": {
        "id": "1O8kjPBaa8XL",
        "outputId": "7200d379-8997-4a61-967b-a5ed336599d1",
        "colab": {
          "base_uri": "https://localhost:8080/"
        }
      },
      "source": [
        "model.compile(loss='categorical_crossentropy',optimizer='adam',metrics=['accuracy'])\n",
        "\n",
        "model_train=model.fit(input_sequences,one_hot_labels,epochs=100,verbose=1,callbacks=[lr_schedule])"
      ],
      "execution_count": 125,
      "outputs": [
        {
          "output_type": "stream",
          "text": [
            "Epoch 1/100\n",
            "177/177 [==============================] - 2s 10ms/step - loss: 4.8307 - accuracy: 0.0362\n",
            "Epoch 2/100\n",
            "177/177 [==============================] - 2s 10ms/step - loss: 4.7362 - accuracy: 0.0367\n",
            "Epoch 3/100\n",
            "177/177 [==============================] - 2s 10ms/step - loss: 4.7012 - accuracy: 0.0494\n",
            "Epoch 4/100\n",
            "177/177 [==============================] - 2s 10ms/step - loss: 4.3350 - accuracy: 0.1031\n",
            "Epoch 5/100\n",
            "177/177 [==============================] - 2s 10ms/step - loss: 3.9811 - accuracy: 0.1496\n",
            "Epoch 6/100\n",
            "177/177 [==============================] - 2s 11ms/step - loss: 3.8060 - accuracy: 0.1722\n",
            "Epoch 7/100\n",
            "177/177 [==============================] - 2s 10ms/step - loss: 3.6875 - accuracy: 0.1780\n",
            "Epoch 8/100\n",
            "177/177 [==============================] - 2s 10ms/step - loss: 3.5876 - accuracy: 0.1826\n",
            "Epoch 9/100\n",
            "177/177 [==============================] - 2s 10ms/step - loss: 3.4998 - accuracy: 0.1969\n",
            "Epoch 10/100\n",
            "177/177 [==============================] - 2s 10ms/step - loss: 3.4423 - accuracy: 0.1953\n",
            "Epoch 11/100\n",
            "177/177 [==============================] - 2s 10ms/step - loss: 3.3841 - accuracy: 0.2070\n",
            "Epoch 12/100\n",
            "177/177 [==============================] - 2s 11ms/step - loss: 3.3306 - accuracy: 0.2082\n",
            "Epoch 13/100\n",
            "177/177 [==============================] - 2s 10ms/step - loss: 3.2846 - accuracy: 0.2137\n",
            "Epoch 14/100\n",
            "177/177 [==============================] - 2s 10ms/step - loss: 3.2332 - accuracy: 0.2193\n",
            "Epoch 15/100\n",
            "177/177 [==============================] - 2s 10ms/step - loss: 3.1845 - accuracy: 0.2214\n",
            "Epoch 16/100\n",
            "177/177 [==============================] - 2s 10ms/step - loss: 3.1424 - accuracy: 0.2306\n",
            "Epoch 17/100\n",
            "177/177 [==============================] - 2s 10ms/step - loss: 3.0910 - accuracy: 0.2336\n",
            "Epoch 18/100\n",
            "177/177 [==============================] - 2s 10ms/step - loss: 3.0607 - accuracy: 0.2380\n",
            "Epoch 19/100\n",
            "177/177 [==============================] - 2s 10ms/step - loss: 3.0000 - accuracy: 0.2483\n",
            "Epoch 20/100\n",
            "177/177 [==============================] - 2s 10ms/step - loss: 2.9489 - accuracy: 0.2543\n",
            "Epoch 21/100\n",
            "177/177 [==============================] - 2s 10ms/step - loss: 2.9160 - accuracy: 0.2571\n",
            "Epoch 22/100\n",
            "177/177 [==============================] - 2s 10ms/step - loss: 2.9679 - accuracy: 0.2525\n",
            "Epoch 23/100\n",
            "177/177 [==============================] - 2s 10ms/step - loss: 2.8841 - accuracy: 0.2592\n",
            "Epoch 24/100\n",
            "177/177 [==============================] - 2s 10ms/step - loss: 2.8315 - accuracy: 0.2666\n",
            "Epoch 25/100\n",
            "177/177 [==============================] - 2s 10ms/step - loss: 2.7898 - accuracy: 0.2712\n",
            "Epoch 26/100\n",
            "177/177 [==============================] - 2s 10ms/step - loss: 2.7544 - accuracy: 0.2702\n",
            "Epoch 27/100\n",
            "177/177 [==============================] - 2s 10ms/step - loss: 2.7380 - accuracy: 0.2737\n",
            "Epoch 28/100\n",
            "177/177 [==============================] - 2s 10ms/step - loss: 2.7136 - accuracy: 0.2749\n",
            "Epoch 29/100\n",
            "177/177 [==============================] - 2s 10ms/step - loss: 2.7003 - accuracy: 0.2868\n",
            "Epoch 30/100\n",
            "177/177 [==============================] - 2s 10ms/step - loss: 2.7339 - accuracy: 0.2705\n",
            "Epoch 31/100\n",
            "177/177 [==============================] - 2s 10ms/step - loss: 2.7483 - accuracy: 0.2723\n",
            "Epoch 32/100\n",
            "177/177 [==============================] - 2s 10ms/step - loss: 2.7800 - accuracy: 0.2732\n",
            "Epoch 33/100\n",
            "177/177 [==============================] - 2s 10ms/step - loss: 2.8305 - accuracy: 0.2576\n",
            "Epoch 34/100\n",
            "177/177 [==============================] - 2s 10ms/step - loss: 2.8295 - accuracy: 0.2596\n",
            "Epoch 35/100\n",
            "177/177 [==============================] - 2s 11ms/step - loss: 2.8633 - accuracy: 0.2557\n",
            "Epoch 36/100\n",
            "177/177 [==============================] - 2s 10ms/step - loss: 2.9362 - accuracy: 0.2349\n",
            "Epoch 37/100\n",
            "177/177 [==============================] - 2s 10ms/step - loss: 2.9996 - accuracy: 0.2317\n",
            "Epoch 38/100\n",
            "177/177 [==============================] - 2s 10ms/step - loss: 3.1435 - accuracy: 0.2147\n",
            "Epoch 39/100\n",
            "177/177 [==============================] - 2s 10ms/step - loss: 3.2954 - accuracy: 0.2078\n",
            "Epoch 40/100\n",
            "177/177 [==============================] - 2s 10ms/step - loss: 3.3923 - accuracy: 0.1849\n",
            "Epoch 41/100\n",
            "177/177 [==============================] - 2s 11ms/step - loss: 3.2986 - accuracy: 0.1976\n",
            "Epoch 42/100\n",
            "177/177 [==============================] - 2s 10ms/step - loss: 3.2943 - accuracy: 0.1988\n",
            "Epoch 43/100\n",
            "177/177 [==============================] - 2s 11ms/step - loss: 3.4206 - accuracy: 0.1882\n",
            "Epoch 44/100\n",
            "177/177 [==============================] - 2s 10ms/step - loss: 3.3938 - accuracy: 0.1893\n",
            "Epoch 45/100\n",
            "177/177 [==============================] - 2s 10ms/step - loss: 3.4739 - accuracy: 0.1782\n",
            "Epoch 46/100\n",
            "177/177 [==============================] - 2s 11ms/step - loss: 3.7026 - accuracy: 0.1618\n",
            "Epoch 47/100\n",
            "177/177 [==============================] - 2s 10ms/step - loss: 3.9666 - accuracy: 0.1395\n",
            "Epoch 48/100\n",
            "177/177 [==============================] - 2s 10ms/step - loss: 3.9689 - accuracy: 0.1391\n",
            "Epoch 49/100\n",
            "177/177 [==============================] - 2s 10ms/step - loss: 3.9129 - accuracy: 0.1411\n",
            "Epoch 50/100\n",
            "177/177 [==============================] - 2s 10ms/step - loss: 3.9580 - accuracy: 0.1347\n",
            "Epoch 51/100\n",
            "177/177 [==============================] - 2s 10ms/step - loss: 3.9549 - accuracy: 0.1393\n",
            "Epoch 52/100\n",
            "177/177 [==============================] - 2s 10ms/step - loss: 4.0472 - accuracy: 0.1340\n",
            "Epoch 53/100\n",
            "177/177 [==============================] - 2s 10ms/step - loss: 4.0274 - accuracy: 0.1312\n",
            "Epoch 54/100\n",
            "177/177 [==============================] - 2s 10ms/step - loss: 4.1545 - accuracy: 0.1220\n",
            "Epoch 55/100\n",
            "177/177 [==============================] - 2s 10ms/step - loss: 4.3134 - accuracy: 0.0966\n",
            "Epoch 56/100\n",
            "177/177 [==============================] - 2s 10ms/step - loss: 4.4024 - accuracy: 0.0920\n",
            "Epoch 57/100\n",
            "177/177 [==============================] - 2s 10ms/step - loss: 4.4538 - accuracy: 0.0851\n",
            "Epoch 58/100\n",
            "177/177 [==============================] - 2s 11ms/step - loss: 4.5647 - accuracy: 0.0689\n",
            "Epoch 59/100\n",
            "177/177 [==============================] - 2s 10ms/step - loss: 4.5333 - accuracy: 0.0625\n",
            "Epoch 60/100\n",
            "177/177 [==============================] - 2s 11ms/step - loss: 4.6834 - accuracy: 0.0487\n",
            "Epoch 61/100\n",
            "177/177 [==============================] - 2s 10ms/step - loss: 4.6829 - accuracy: 0.0486\n",
            "Epoch 62/100\n",
            "177/177 [==============================] - 2s 10ms/step - loss: 4.6741 - accuracy: 0.0526\n",
            "Epoch 63/100\n",
            "177/177 [==============================] - 2s 10ms/step - loss: 4.6513 - accuracy: 0.0572\n",
            "Epoch 64/100\n",
            "177/177 [==============================] - 2s 10ms/step - loss: 4.6401 - accuracy: 0.0532\n",
            "Epoch 65/100\n",
            "177/177 [==============================] - 2s 10ms/step - loss: 4.7161 - accuracy: 0.0535\n",
            "Epoch 66/100\n",
            "177/177 [==============================] - 2s 11ms/step - loss: 4.7864 - accuracy: 0.0381\n",
            "Epoch 67/100\n",
            "177/177 [==============================] - 2s 11ms/step - loss: 4.7951 - accuracy: 0.0350\n",
            "Epoch 68/100\n",
            "177/177 [==============================] - 2s 11ms/step - loss: 4.8024 - accuracy: 0.0334\n",
            "Epoch 69/100\n",
            "177/177 [==============================] - 2s 10ms/step - loss: 4.8084 - accuracy: 0.0380\n",
            "Epoch 70/100\n",
            "177/177 [==============================] - 2s 10ms/step - loss: 4.8182 - accuracy: 0.0357\n",
            "Epoch 71/100\n",
            "177/177 [==============================] - 2s 10ms/step - loss: 4.8244 - accuracy: 0.0373\n",
            "Epoch 72/100\n",
            "177/177 [==============================] - 2s 10ms/step - loss: 4.8367 - accuracy: 0.0380\n",
            "Epoch 73/100\n",
            "177/177 [==============================] - 2s 10ms/step - loss: 4.8419 - accuracy: 0.0346\n",
            "Epoch 74/100\n",
            "177/177 [==============================] - 2s 10ms/step - loss: 4.8579 - accuracy: 0.0362\n",
            "Epoch 75/100\n",
            "177/177 [==============================] - 2s 10ms/step - loss: 4.8576 - accuracy: 0.0311\n",
            "Epoch 76/100\n",
            "177/177 [==============================] - 2s 11ms/step - loss: 4.8799 - accuracy: 0.0358\n",
            "Epoch 77/100\n",
            "177/177 [==============================] - 2s 10ms/step - loss: 4.9019 - accuracy: 0.0332\n",
            "Epoch 78/100\n",
            "177/177 [==============================] - 2s 10ms/step - loss: 4.9096 - accuracy: 0.0321\n",
            "Epoch 79/100\n",
            "177/177 [==============================] - 2s 10ms/step - loss: 4.9237 - accuracy: 0.0305\n",
            "Epoch 80/100\n",
            "177/177 [==============================] - 2s 11ms/step - loss: 4.9412 - accuracy: 0.0284\n",
            "Epoch 81/100\n",
            "177/177 [==============================] - 2s 11ms/step - loss: 4.9504 - accuracy: 0.0337\n",
            "Epoch 82/100\n",
            "177/177 [==============================] - 2s 10ms/step - loss: 4.9717 - accuracy: 0.0406\n",
            "Epoch 83/100\n",
            "177/177 [==============================] - 2s 11ms/step - loss: 5.0017 - accuracy: 0.0279\n",
            "Epoch 84/100\n",
            "177/177 [==============================] - 2s 11ms/step - loss: 5.8907 - accuracy: 0.0261\n",
            "Epoch 85/100\n",
            "177/177 [==============================] - 2s 10ms/step - loss: 6.0286 - accuracy: 0.0230\n",
            "Epoch 86/100\n",
            "177/177 [==============================] - 2s 10ms/step - loss: 5.8018 - accuracy: 0.0256\n",
            "Epoch 87/100\n",
            "177/177 [==============================] - 2s 11ms/step - loss: 5.7981 - accuracy: 0.0298\n",
            "Epoch 88/100\n",
            "177/177 [==============================] - 2s 10ms/step - loss: 5.8132 - accuracy: 0.0251\n",
            "Epoch 89/100\n",
            "177/177 [==============================] - 2s 10ms/step - loss: 5.8053 - accuracy: 0.0228\n",
            "Epoch 90/100\n",
            "177/177 [==============================] - 2s 10ms/step - loss: 5.8532 - accuracy: 0.0267\n",
            "Epoch 91/100\n",
            "177/177 [==============================] - 2s 10ms/step - loss: 5.9408 - accuracy: 0.0240\n",
            "Epoch 92/100\n",
            "177/177 [==============================] - 2s 10ms/step - loss: 29.8408 - accuracy: 0.0219\n",
            "Epoch 93/100\n",
            "177/177 [==============================] - 2s 10ms/step - loss: 56.9446 - accuracy: 0.0134\n",
            "Epoch 94/100\n",
            "177/177 [==============================] - 2s 10ms/step - loss: 46.5628 - accuracy: 0.0125\n",
            "Epoch 95/100\n",
            "177/177 [==============================] - 2s 10ms/step - loss: 36.9030 - accuracy: 0.0136\n",
            "Epoch 96/100\n",
            "177/177 [==============================] - 2s 10ms/step - loss: 23.7316 - accuracy: 0.0136\n",
            "Epoch 97/100\n",
            "177/177 [==============================] - 2s 10ms/step - loss: 22.3314 - accuracy: 0.0136\n",
            "Epoch 98/100\n",
            "177/177 [==============================] - 2s 10ms/step - loss: 69.7554 - accuracy: 0.0143\n",
            "Epoch 99/100\n",
            "177/177 [==============================] - 2s 10ms/step - loss: 52.9331 - accuracy: 0.0152\n",
            "Epoch 100/100\n",
            "177/177 [==============================] - 2s 10ms/step - loss: 44.7349 - accuracy: 0.0131\n"
          ],
          "name": "stdout"
        }
      ]
    },
    {
      "cell_type": "code",
      "metadata": {
        "id": "VBFEV5wE9iJd",
        "outputId": "ded92285-61fd-45f4-9a80-ca74305242da",
        "colab": {
          "base_uri": "https://localhost:8080/",
          "height": 286
        }
      },
      "source": [
        "import matplotlib.pyplot as plt\n",
        "\n",
        "plt.semilogx(model_train.history[\"lr\"], model_train.history[\"loss\"])\n",
        "plt.axis([1e-3, 10, 0, 15])"
      ],
      "execution_count": 126,
      "outputs": [
        {
          "output_type": "execute_result",
          "data": {
            "text/plain": [
              "(0.001, 10.0, 0.0, 15.0)"
            ]
          },
          "metadata": {
            "tags": []
          },
          "execution_count": 126
        },
        {
          "output_type": "display_data",
          "data": {
            "image/png": "[encoded data removed]",
            "text/plain": [
              "<Figure size 432x288 with 1 Axes>"
            ]
          },
          "metadata": {
            "tags": [],
            "needs_background": "light"
          }
        }
      ]
    },
    {
      "cell_type": "markdown",
      "metadata": {
        "id": "DDB0NX4qYHTd"
      },
      "source": [
        "Here we can see that the loss is increasing after 1e-2 hence we can choose the learning rate as 1e-2"
      ]
    },
    {
      "cell_type": "code",
      "metadata": {
        "id": "DA6Fl06q-o0G"
      },
      "source": [
        "\n",
        "\n",
        "model=Sequential()\n",
        "model.add(Embedding(total_words,64,input_length=max_sequence_len-1))\n",
        "model.add(LSTM(200,return_sequences=True))\n",
        "model.add(LSTM(200,return_sequences=True))\n",
        "model.add(LSTM(100))\n",
        "model.add(Dense(total_words,activation='relu'))\n",
        "model.add(Dense(total_words,activation='softmax'))\n",
        "\n",
        "\n",
        "\n",
        "\n",
        "optimizer = keras.optimizers.Adam(lr=1e-2)\n"
      ],
      "execution_count": 127,
      "outputs": []
    },
    {
      "cell_type": "code",
      "metadata": {
        "id": "xApXGneuDhGs",
        "outputId": "faacb0c8-14ab-49d2-a54a-553584c5f6b0",
        "colab": {
          "base_uri": "https://localhost:8080/"
        }
      },
      "source": [
        "model.summary()"
      ],
      "execution_count": 128,
      "outputs": [
        {
          "output_type": "stream",
          "text": [
            "Model: \"sequential_10\"\n",
            "_________________________________________________________________\n",
            "Layer (type)                 Output Shape              Param #   \n",
            "=================================================================\n",
            "embedding_10 (Embedding)     (None, 22, 64)            14400     \n",
            "_________________________________________________________________\n",
            "lstm_30 (LSTM)               (None, 22, 200)           212000    \n",
            "_________________________________________________________________\n",
            "lstm_31 (LSTM)               (None, 22, 200)           320800    \n",
            "_________________________________________________________________\n",
            "lstm_32 (LSTM)               (None, 100)               120400    \n",
            "_________________________________________________________________\n",
            "dense_15 (Dense)             (None, 225)               22725     \n",
            "_________________________________________________________________\n",
            "dense_16 (Dense)             (None, 225)               50850     \n",
            "=================================================================\n",
            "Total params: 741,175\n",
            "Trainable params: 741,175\n",
            "Non-trainable params: 0\n",
            "_________________________________________________________________\n"
          ],
          "name": "stdout"
        }
      ]
    },
    {
      "cell_type": "code",
      "metadata": {
        "id": "Ct5UYgZjDjfe",
        "outputId": "f98e42f0-c7cb-4c92-a9f3-469f33437008",
        "colab": {
          "base_uri": "https://localhost:8080/"
        }
      },
      "source": [
        "model.compile(loss='categorical_crossentropy',optimizer='adam',metrics=['accuracy'])\n",
        "\n",
        "model_train=model.fit(input_sequences,one_hot_labels,epochs=200,verbose=1)"
      ],
      "execution_count": 129,
      "outputs": [
        {
          "output_type": "stream",
          "text": [
            "Epoch 1/200\n",
            "177/177 [==============================] - 2s 10ms/step - loss: 4.8226 - accuracy: 0.0336\n",
            "Epoch 2/200\n",
            "177/177 [==============================] - 2s 10ms/step - loss: 4.7379 - accuracy: 0.0378\n",
            "Epoch 3/200\n",
            "177/177 [==============================] - 2s 10ms/step - loss: 4.6593 - accuracy: 0.0410\n",
            "Epoch 4/200\n",
            "177/177 [==============================] - 2s 10ms/step - loss: 4.4286 - accuracy: 0.0726\n",
            "Epoch 5/200\n",
            "177/177 [==============================] - 2s 10ms/step - loss: 4.1345 - accuracy: 0.1026\n",
            "Epoch 6/200\n",
            "177/177 [==============================] - 2s 10ms/step - loss: 3.9572 - accuracy: 0.1289\n",
            "Epoch 7/200\n",
            "177/177 [==============================] - 2s 10ms/step - loss: 3.8369 - accuracy: 0.1483\n",
            "Epoch 8/200\n",
            "177/177 [==============================] - 2s 10ms/step - loss: 3.7340 - accuracy: 0.1584\n",
            "Epoch 9/200\n",
            "177/177 [==============================] - 2s 11ms/step - loss: 3.6345 - accuracy: 0.1670\n",
            "Epoch 10/200\n",
            "177/177 [==============================] - 2s 11ms/step - loss: 3.5513 - accuracy: 0.1702\n",
            "Epoch 11/200\n",
            "177/177 [==============================] - 2s 10ms/step - loss: 3.4783 - accuracy: 0.1794\n",
            "Epoch 12/200\n",
            "177/177 [==============================] - 2s 10ms/step - loss: 3.4160 - accuracy: 0.1919\n",
            "Epoch 13/200\n",
            "177/177 [==============================] - 2s 10ms/step - loss: 3.3479 - accuracy: 0.1992\n",
            "Epoch 14/200\n",
            "177/177 [==============================] - 2s 10ms/step - loss: 3.2965 - accuracy: 0.2084\n",
            "Epoch 15/200\n",
            "177/177 [==============================] - 2s 10ms/step - loss: 3.2429 - accuracy: 0.2115\n",
            "Epoch 16/200\n",
            "177/177 [==============================] - 2s 10ms/step - loss: 3.1956 - accuracy: 0.2183\n",
            "Epoch 17/200\n",
            "177/177 [==============================] - 2s 10ms/step - loss: 3.1417 - accuracy: 0.2244\n",
            "Epoch 18/200\n",
            "177/177 [==============================] - 2s 10ms/step - loss: 3.1012 - accuracy: 0.2299\n",
            "Epoch 19/200\n",
            "177/177 [==============================] - 2s 10ms/step - loss: 3.0468 - accuracy: 0.2333\n",
            "Epoch 20/200\n",
            "177/177 [==============================] - 2s 10ms/step - loss: 3.0038 - accuracy: 0.2313\n",
            "Epoch 21/200\n",
            "177/177 [==============================] - 2s 10ms/step - loss: 2.9609 - accuracy: 0.2386\n",
            "Epoch 22/200\n",
            "177/177 [==============================] - 2s 10ms/step - loss: 2.9174 - accuracy: 0.2476\n",
            "Epoch 23/200\n",
            "177/177 [==============================] - 2s 10ms/step - loss: 2.8654 - accuracy: 0.2530\n",
            "Epoch 24/200\n",
            "177/177 [==============================] - 2s 10ms/step - loss: 2.8227 - accuracy: 0.2550\n",
            "Epoch 25/200\n",
            "177/177 [==============================] - 2s 10ms/step - loss: 2.7839 - accuracy: 0.2645\n",
            "Epoch 26/200\n",
            "177/177 [==============================] - 2s 10ms/step - loss: 2.7403 - accuracy: 0.2684\n",
            "Epoch 27/200\n",
            "177/177 [==============================] - 2s 10ms/step - loss: 2.6834 - accuracy: 0.2771\n",
            "Epoch 28/200\n",
            "177/177 [==============================] - 2s 11ms/step - loss: 2.6484 - accuracy: 0.2859\n",
            "Epoch 29/200\n",
            "177/177 [==============================] - 2s 11ms/step - loss: 2.6102 - accuracy: 0.2885\n",
            "Epoch 30/200\n",
            "177/177 [==============================] - 2s 10ms/step - loss: 2.5553 - accuracy: 0.3014\n",
            "Epoch 31/200\n",
            "177/177 [==============================] - 2s 10ms/step - loss: 2.5104 - accuracy: 0.3150\n",
            "Epoch 32/200\n",
            "177/177 [==============================] - 2s 10ms/step - loss: 2.4744 - accuracy: 0.3131\n",
            "Epoch 33/200\n",
            "177/177 [==============================] - 2s 10ms/step - loss: 2.4197 - accuracy: 0.3288\n",
            "Epoch 34/200\n",
            "177/177 [==============================] - 2s 10ms/step - loss: 2.3838 - accuracy: 0.3390\n",
            "Epoch 35/200\n",
            "177/177 [==============================] - 2s 10ms/step - loss: 2.3343 - accuracy: 0.3463\n",
            "Epoch 36/200\n",
            "177/177 [==============================] - 2s 10ms/step - loss: 2.2929 - accuracy: 0.3558\n",
            "Epoch 37/200\n",
            "177/177 [==============================] - 2s 10ms/step - loss: 2.2429 - accuracy: 0.3708\n",
            "Epoch 38/200\n",
            "177/177 [==============================] - 2s 10ms/step - loss: 2.2028 - accuracy: 0.3786\n",
            "Epoch 39/200\n",
            "177/177 [==============================] - 2s 10ms/step - loss: 2.1555 - accuracy: 0.3853\n",
            "Epoch 40/200\n",
            "177/177 [==============================] - 2s 10ms/step - loss: 2.1091 - accuracy: 0.4005\n",
            "Epoch 41/200\n",
            "177/177 [==============================] - 2s 10ms/step - loss: 2.0689 - accuracy: 0.4081\n",
            "Epoch 42/200\n",
            "177/177 [==============================] - 2s 10ms/step - loss: 2.0375 - accuracy: 0.4127\n",
            "Epoch 43/200\n",
            "177/177 [==============================] - 2s 12ms/step - loss: 2.0003 - accuracy: 0.4249\n",
            "Epoch 44/200\n",
            "177/177 [==============================] - 2s 11ms/step - loss: 1.9603 - accuracy: 0.4400\n",
            "Epoch 45/200\n",
            "177/177 [==============================] - 2s 11ms/step - loss: 1.9205 - accuracy: 0.4464\n",
            "Epoch 46/200\n",
            "177/177 [==============================] - 2s 11ms/step - loss: 1.8722 - accuracy: 0.4634\n",
            "Epoch 47/200\n",
            "177/177 [==============================] - 2s 12ms/step - loss: 1.8330 - accuracy: 0.4708\n",
            "Epoch 48/200\n",
            "177/177 [==============================] - 2s 12ms/step - loss: 1.8098 - accuracy: 0.4745\n",
            "Epoch 49/200\n",
            "177/177 [==============================] - 2s 10ms/step - loss: 1.7656 - accuracy: 0.4895\n",
            "Epoch 50/200\n",
            "177/177 [==============================] - 2s 10ms/step - loss: 1.7338 - accuracy: 0.4978\n",
            "Epoch 51/200\n",
            "177/177 [==============================] - 2s 10ms/step - loss: 1.6956 - accuracy: 0.5098\n",
            "Epoch 52/200\n",
            "177/177 [==============================] - 2s 10ms/step - loss: 1.6652 - accuracy: 0.5142\n",
            "Epoch 53/200\n",
            "177/177 [==============================] - 2s 11ms/step - loss: 1.6317 - accuracy: 0.5273\n",
            "Epoch 54/200\n",
            "177/177 [==============================] - 2s 11ms/step - loss: 1.6009 - accuracy: 0.5414\n",
            "Epoch 55/200\n",
            "177/177 [==============================] - 2s 11ms/step - loss: 1.5762 - accuracy: 0.5398\n",
            "Epoch 56/200\n",
            "177/177 [==============================] - 2s 11ms/step - loss: 1.5380 - accuracy: 0.5559\n",
            "Epoch 57/200\n",
            "177/177 [==============================] - 2s 11ms/step - loss: 1.5138 - accuracy: 0.5538\n",
            "Epoch 58/200\n",
            "177/177 [==============================] - 2s 10ms/step - loss: 1.4806 - accuracy: 0.5700\n",
            "Epoch 59/200\n",
            "177/177 [==============================] - 2s 11ms/step - loss: 1.4601 - accuracy: 0.5746\n",
            "Epoch 60/200\n",
            "177/177 [==============================] - 2s 10ms/step - loss: 1.4278 - accuracy: 0.5891\n",
            "Epoch 61/200\n",
            "177/177 [==============================] - 2s 10ms/step - loss: 1.4004 - accuracy: 0.5947\n",
            "Epoch 62/200\n",
            "177/177 [==============================] - 2s 10ms/step - loss: 1.3790 - accuracy: 0.5960\n",
            "Epoch 63/200\n",
            "177/177 [==============================] - 2s 10ms/step - loss: 1.3509 - accuracy: 0.6062\n",
            "Epoch 64/200\n",
            "177/177 [==============================] - 2s 10ms/step - loss: 1.3308 - accuracy: 0.6127\n",
            "Epoch 65/200\n",
            "177/177 [==============================] - 2s 10ms/step - loss: 1.3152 - accuracy: 0.6138\n",
            "Epoch 66/200\n",
            "177/177 [==============================] - 2s 10ms/step - loss: 1.2922 - accuracy: 0.6235\n",
            "Epoch 67/200\n",
            "177/177 [==============================] - 2s 10ms/step - loss: 1.2749 - accuracy: 0.6212\n",
            "Epoch 68/200\n",
            "177/177 [==============================] - 2s 10ms/step - loss: 1.2528 - accuracy: 0.6345\n",
            "Epoch 69/200\n",
            "177/177 [==============================] - 2s 10ms/step - loss: 1.2400 - accuracy: 0.6318\n",
            "Epoch 70/200\n",
            "177/177 [==============================] - 2s 10ms/step - loss: 1.2196 - accuracy: 0.6387\n",
            "Epoch 71/200\n",
            "177/177 [==============================] - 2s 11ms/step - loss: 1.1954 - accuracy: 0.6509\n",
            "Epoch 72/200\n",
            "177/177 [==============================] - 2s 10ms/step - loss: 1.1728 - accuracy: 0.6530\n",
            "Epoch 73/200\n",
            "177/177 [==============================] - 2s 11ms/step - loss: 1.1638 - accuracy: 0.6527\n",
            "Epoch 74/200\n",
            "177/177 [==============================] - 2s 11ms/step - loss: 1.1502 - accuracy: 0.6601\n",
            "Epoch 75/200\n",
            "177/177 [==============================] - 2s 10ms/step - loss: 1.1361 - accuracy: 0.6603\n",
            "Epoch 76/200\n",
            "177/177 [==============================] - 2s 11ms/step - loss: 1.1371 - accuracy: 0.6597\n",
            "Epoch 77/200\n",
            "177/177 [==============================] - 2s 11ms/step - loss: 1.1094 - accuracy: 0.6698\n",
            "Epoch 78/200\n",
            "177/177 [==============================] - 2s 10ms/step - loss: 1.0894 - accuracy: 0.6701\n",
            "Epoch 79/200\n",
            "177/177 [==============================] - 2s 10ms/step - loss: 1.0763 - accuracy: 0.6740\n",
            "Epoch 80/200\n",
            "177/177 [==============================] - 2s 11ms/step - loss: 1.0660 - accuracy: 0.6763\n",
            "Epoch 81/200\n",
            "177/177 [==============================] - 2s 11ms/step - loss: 1.0510 - accuracy: 0.6825\n",
            "Epoch 82/200\n",
            "177/177 [==============================] - 2s 10ms/step - loss: 1.0435 - accuracy: 0.6837\n",
            "Epoch 83/200\n",
            "177/177 [==============================] - 2s 10ms/step - loss: 1.0225 - accuracy: 0.6882\n",
            "Epoch 84/200\n",
            "177/177 [==============================] - 2s 10ms/step - loss: 1.0226 - accuracy: 0.6871\n",
            "Epoch 85/200\n",
            "177/177 [==============================] - 2s 10ms/step - loss: 1.0087 - accuracy: 0.6931\n",
            "Epoch 86/200\n",
            "177/177 [==============================] - 2s 10ms/step - loss: 0.9976 - accuracy: 0.6982\n",
            "Epoch 87/200\n",
            "177/177 [==============================] - 2s 11ms/step - loss: 0.9965 - accuracy: 0.6933\n",
            "Epoch 88/200\n",
            "177/177 [==============================] - 2s 10ms/step - loss: 0.9927 - accuracy: 0.6998\n",
            "Epoch 89/200\n",
            "177/177 [==============================] - 2s 10ms/step - loss: 0.9760 - accuracy: 0.6950\n",
            "Epoch 90/200\n",
            "177/177 [==============================] - 2s 11ms/step - loss: 0.9644 - accuracy: 0.6995\n",
            "Epoch 91/200\n",
            "177/177 [==============================] - 2s 11ms/step - loss: 0.9616 - accuracy: 0.6979\n",
            "Epoch 92/200\n",
            "177/177 [==============================] - 2s 10ms/step - loss: 0.9453 - accuracy: 0.7048\n",
            "Epoch 93/200\n",
            "177/177 [==============================] - 2s 10ms/step - loss: 0.9411 - accuracy: 0.7063\n",
            "Epoch 94/200\n",
            "177/177 [==============================] - 2s 11ms/step - loss: 0.9474 - accuracy: 0.7017\n",
            "Epoch 95/200\n",
            "177/177 [==============================] - 2s 10ms/step - loss: 0.9505 - accuracy: 0.7026\n",
            "Epoch 96/200\n",
            "177/177 [==============================] - 2s 10ms/step - loss: 0.9309 - accuracy: 0.7078\n",
            "Epoch 97/200\n",
            "177/177 [==============================] - 2s 11ms/step - loss: 0.9167 - accuracy: 0.7125\n",
            "Epoch 98/200\n",
            "177/177 [==============================] - 2s 10ms/step - loss: 0.9054 - accuracy: 0.7122\n",
            "Epoch 99/200\n",
            "177/177 [==============================] - 2s 10ms/step - loss: 0.9002 - accuracy: 0.7175\n",
            "Epoch 100/200\n",
            "177/177 [==============================] - 2s 10ms/step - loss: 0.8919 - accuracy: 0.7150\n",
            "Epoch 101/200\n",
            "177/177 [==============================] - 2s 10ms/step - loss: 0.8973 - accuracy: 0.7159\n",
            "Epoch 102/200\n",
            "177/177 [==============================] - 2s 10ms/step - loss: 0.8906 - accuracy: 0.7134\n",
            "Epoch 103/200\n",
            "177/177 [==============================] - 2s 10ms/step - loss: 0.8835 - accuracy: 0.7173\n",
            "Epoch 104/200\n",
            "177/177 [==============================] - 2s 10ms/step - loss: 0.8795 - accuracy: 0.7150\n",
            "Epoch 105/200\n",
            "177/177 [==============================] - 2s 11ms/step - loss: 0.8832 - accuracy: 0.7187\n",
            "Epoch 106/200\n",
            "177/177 [==============================] - 2s 10ms/step - loss: 0.8830 - accuracy: 0.7178\n",
            "Epoch 107/200\n",
            "177/177 [==============================] - 2s 10ms/step - loss: 0.8734 - accuracy: 0.7215\n",
            "Epoch 108/200\n",
            "177/177 [==============================] - 2s 10ms/step - loss: 0.8703 - accuracy: 0.7205\n",
            "Epoch 109/200\n",
            "177/177 [==============================] - 2s 10ms/step - loss: 0.8485 - accuracy: 0.7205\n",
            "Epoch 110/200\n",
            "177/177 [==============================] - 2s 11ms/step - loss: 0.8479 - accuracy: 0.7252\n",
            "Epoch 111/200\n",
            "177/177 [==============================] - 2s 10ms/step - loss: 0.8448 - accuracy: 0.7277\n",
            "Epoch 112/200\n",
            "177/177 [==============================] - 2s 11ms/step - loss: 0.8404 - accuracy: 0.7263\n",
            "Epoch 113/200\n",
            "177/177 [==============================] - 2s 10ms/step - loss: 0.8384 - accuracy: 0.7244\n",
            "Epoch 114/200\n",
            "177/177 [==============================] - 2s 11ms/step - loss: 0.8316 - accuracy: 0.7263\n",
            "Epoch 115/200\n",
            "177/177 [==============================] - 2s 10ms/step - loss: 0.8476 - accuracy: 0.7244\n",
            "Epoch 116/200\n",
            "177/177 [==============================] - 2s 10ms/step - loss: 0.8473 - accuracy: 0.7198\n",
            "Epoch 117/200\n",
            "177/177 [==============================] - 2s 10ms/step - loss: 0.8438 - accuracy: 0.7251\n",
            "Epoch 118/200\n",
            "177/177 [==============================] - 2s 10ms/step - loss: 0.8313 - accuracy: 0.7251\n",
            "Epoch 119/200\n",
            "177/177 [==============================] - 2s 10ms/step - loss: 0.8189 - accuracy: 0.7265\n",
            "Epoch 120/200\n",
            "177/177 [==============================] - 2s 11ms/step - loss: 0.8104 - accuracy: 0.7291\n",
            "Epoch 121/200\n",
            "177/177 [==============================] - 2s 10ms/step - loss: 0.8136 - accuracy: 0.7288\n",
            "Epoch 122/200\n",
            "177/177 [==============================] - 2s 10ms/step - loss: 0.8123 - accuracy: 0.7281\n",
            "Epoch 123/200\n",
            "177/177 [==============================] - 2s 10ms/step - loss: 0.8130 - accuracy: 0.7279\n",
            "Epoch 124/200\n",
            "177/177 [==============================] - 2s 10ms/step - loss: 0.8383 - accuracy: 0.7189\n",
            "Epoch 125/200\n",
            "177/177 [==============================] - 2s 10ms/step - loss: 0.8254 - accuracy: 0.7244\n",
            "Epoch 126/200\n",
            "177/177 [==============================] - 2s 10ms/step - loss: 0.8161 - accuracy: 0.7268\n",
            "Epoch 127/200\n",
            "177/177 [==============================] - 2s 10ms/step - loss: 0.8351 - accuracy: 0.7259\n",
            "Epoch 128/200\n",
            "177/177 [==============================] - 2s 10ms/step - loss: 0.8375 - accuracy: 0.7240\n",
            "Epoch 129/200\n",
            "177/177 [==============================] - 2s 10ms/step - loss: 0.8184 - accuracy: 0.7281\n",
            "Epoch 130/200\n",
            "177/177 [==============================] - 2s 10ms/step - loss: 0.7917 - accuracy: 0.7295\n",
            "Epoch 131/200\n",
            "177/177 [==============================] - 2s 11ms/step - loss: 0.7883 - accuracy: 0.7323\n",
            "Epoch 132/200\n",
            "177/177 [==============================] - 2s 10ms/step - loss: 0.7863 - accuracy: 0.7348\n",
            "Epoch 133/200\n",
            "177/177 [==============================] - 2s 10ms/step - loss: 0.7786 - accuracy: 0.7346\n",
            "Epoch 134/200\n",
            "177/177 [==============================] - 2s 10ms/step - loss: 0.7786 - accuracy: 0.7327\n",
            "Epoch 135/200\n",
            "177/177 [==============================] - 2s 10ms/step - loss: 0.7862 - accuracy: 0.7328\n",
            "Epoch 136/200\n",
            "177/177 [==============================] - 2s 10ms/step - loss: 0.7868 - accuracy: 0.7323\n",
            "Epoch 137/200\n",
            "177/177 [==============================] - 2s 11ms/step - loss: 0.7930 - accuracy: 0.7334\n",
            "Epoch 138/200\n",
            "177/177 [==============================] - 2s 10ms/step - loss: 0.8024 - accuracy: 0.7249\n",
            "Epoch 139/200\n",
            "177/177 [==============================] - 2s 10ms/step - loss: 0.7966 - accuracy: 0.7284\n",
            "Epoch 140/200\n",
            "177/177 [==============================] - 2s 10ms/step - loss: 0.7867 - accuracy: 0.7311\n",
            "Epoch 141/200\n",
            "177/177 [==============================] - 2s 10ms/step - loss: 0.8024 - accuracy: 0.7249\n",
            "Epoch 142/200\n",
            "177/177 [==============================] - 2s 11ms/step - loss: 0.7867 - accuracy: 0.7358\n",
            "Epoch 143/200\n",
            "177/177 [==============================] - 2s 11ms/step - loss: 0.7696 - accuracy: 0.7353\n",
            "Epoch 144/200\n",
            "177/177 [==============================] - 2s 10ms/step - loss: 0.7708 - accuracy: 0.7311\n",
            "Epoch 145/200\n",
            "177/177 [==============================] - 2s 10ms/step - loss: 0.7687 - accuracy: 0.7314\n",
            "Epoch 146/200\n",
            "177/177 [==============================] - 2s 10ms/step - loss: 0.7653 - accuracy: 0.7349\n",
            "Epoch 147/200\n",
            "177/177 [==============================] - 2s 10ms/step - loss: 0.7691 - accuracy: 0.7281\n",
            "Epoch 148/200\n",
            "177/177 [==============================] - 2s 10ms/step - loss: 0.7701 - accuracy: 0.7364\n",
            "Epoch 149/200\n",
            "177/177 [==============================] - 2s 10ms/step - loss: 0.7663 - accuracy: 0.7371\n",
            "Epoch 150/200\n",
            "177/177 [==============================] - 2s 10ms/step - loss: 0.7634 - accuracy: 0.7325\n",
            "Epoch 151/200\n",
            "177/177 [==============================] - 2s 11ms/step - loss: 0.7668 - accuracy: 0.7328\n",
            "Epoch 152/200\n",
            "177/177 [==============================] - 2s 10ms/step - loss: 0.7757 - accuracy: 0.7357\n",
            "Epoch 153/200\n",
            "177/177 [==============================] - 2s 11ms/step - loss: 0.8112 - accuracy: 0.7203\n",
            "Epoch 154/200\n",
            "177/177 [==============================] - 2s 11ms/step - loss: 0.8395 - accuracy: 0.7185\n",
            "Epoch 155/200\n",
            "177/177 [==============================] - 2s 10ms/step - loss: 0.7913 - accuracy: 0.7316\n",
            "Epoch 156/200\n",
            "177/177 [==============================] - 2s 10ms/step - loss: 0.7678 - accuracy: 0.7337\n",
            "Epoch 157/200\n",
            "177/177 [==============================] - 2s 10ms/step - loss: 0.7527 - accuracy: 0.7353\n",
            "Epoch 158/200\n",
            "177/177 [==============================] - 2s 10ms/step - loss: 0.7520 - accuracy: 0.7335\n",
            "Epoch 159/200\n",
            "177/177 [==============================] - 2s 10ms/step - loss: 0.7477 - accuracy: 0.7394\n",
            "Epoch 160/200\n",
            "177/177 [==============================] - 2s 10ms/step - loss: 0.7468 - accuracy: 0.7360\n",
            "Epoch 161/200\n",
            "177/177 [==============================] - 2s 10ms/step - loss: 0.7465 - accuracy: 0.7418\n",
            "Epoch 162/200\n",
            "177/177 [==============================] - 2s 10ms/step - loss: 0.7507 - accuracy: 0.7357\n",
            "Epoch 163/200\n",
            "177/177 [==============================] - 2s 11ms/step - loss: 0.7511 - accuracy: 0.7369\n",
            "Epoch 164/200\n",
            "177/177 [==============================] - 2s 11ms/step - loss: 0.7560 - accuracy: 0.7323\n",
            "Epoch 165/200\n",
            "177/177 [==============================] - 2s 10ms/step - loss: 0.7541 - accuracy: 0.7335\n",
            "Epoch 166/200\n",
            "177/177 [==============================] - 2s 10ms/step - loss: 0.7568 - accuracy: 0.7341\n",
            "Epoch 167/200\n",
            "177/177 [==============================] - 2s 10ms/step - loss: 0.7582 - accuracy: 0.7323\n",
            "Epoch 168/200\n",
            "177/177 [==============================] - 2s 10ms/step - loss: 0.7922 - accuracy: 0.7288\n",
            "Epoch 169/200\n",
            "177/177 [==============================] - 2s 10ms/step - loss: 0.8323 - accuracy: 0.7169\n",
            "Epoch 170/200\n",
            "177/177 [==============================] - 2s 10ms/step - loss: 0.7664 - accuracy: 0.7314\n",
            "Epoch 171/200\n",
            "177/177 [==============================] - 2s 10ms/step - loss: 0.7474 - accuracy: 0.7344\n",
            "Epoch 172/200\n",
            "177/177 [==============================] - 2s 10ms/step - loss: 0.7426 - accuracy: 0.7357\n",
            "Epoch 173/200\n",
            "177/177 [==============================] - 2s 10ms/step - loss: 0.7395 - accuracy: 0.7339\n",
            "Epoch 174/200\n",
            "177/177 [==============================] - 2s 10ms/step - loss: 0.7377 - accuracy: 0.7344\n",
            "Epoch 175/200\n",
            "177/177 [==============================] - 2s 11ms/step - loss: 0.7343 - accuracy: 0.7371\n",
            "Epoch 176/200\n",
            "177/177 [==============================] - 2s 10ms/step - loss: 0.7419 - accuracy: 0.7360\n",
            "Epoch 177/200\n",
            "177/177 [==============================] - 2s 11ms/step - loss: 0.7416 - accuracy: 0.7379\n",
            "Epoch 178/200\n",
            "177/177 [==============================] - 2s 10ms/step - loss: 0.7489 - accuracy: 0.7327\n",
            "Epoch 179/200\n",
            "177/177 [==============================] - 2s 10ms/step - loss: 0.7710 - accuracy: 0.7307\n",
            "Epoch 180/200\n",
            "177/177 [==============================] - 2s 10ms/step - loss: 0.7717 - accuracy: 0.7300\n",
            "Epoch 181/200\n",
            "177/177 [==============================] - 2s 10ms/step - loss: 0.7613 - accuracy: 0.7298\n",
            "Epoch 182/200\n",
            "177/177 [==============================] - 2s 10ms/step - loss: 0.7854 - accuracy: 0.7226\n",
            "Epoch 183/200\n",
            "177/177 [==============================] - 2s 11ms/step - loss: 0.7434 - accuracy: 0.7323\n",
            "Epoch 184/200\n",
            "177/177 [==============================] - 2s 11ms/step - loss: 0.7341 - accuracy: 0.7388\n",
            "Epoch 185/200\n",
            "177/177 [==============================] - 2s 10ms/step - loss: 0.7331 - accuracy: 0.7404\n",
            "Epoch 186/200\n",
            "177/177 [==============================] - 2s 10ms/step - loss: 0.7339 - accuracy: 0.7349\n",
            "Epoch 187/200\n",
            "177/177 [==============================] - 2s 11ms/step - loss: 0.7340 - accuracy: 0.7327\n",
            "Epoch 188/200\n",
            "177/177 [==============================] - 2s 10ms/step - loss: 0.7328 - accuracy: 0.7344\n",
            "Epoch 189/200\n",
            "177/177 [==============================] - 2s 11ms/step - loss: 0.7376 - accuracy: 0.7344\n",
            "Epoch 190/200\n",
            "177/177 [==============================] - 2s 10ms/step - loss: 0.7486 - accuracy: 0.7344\n",
            "Epoch 191/200\n",
            "177/177 [==============================] - 2s 10ms/step - loss: 0.7510 - accuracy: 0.7316\n",
            "Epoch 192/200\n",
            "177/177 [==============================] - 2s 10ms/step - loss: 0.7895 - accuracy: 0.7265\n",
            "Epoch 193/200\n",
            "177/177 [==============================] - 2s 11ms/step - loss: 0.7940 - accuracy: 0.7208\n",
            "Epoch 194/200\n",
            "177/177 [==============================] - 2s 12ms/step - loss: 0.7606 - accuracy: 0.7296\n",
            "Epoch 195/200\n",
            "177/177 [==============================] - 2s 11ms/step - loss: 0.7443 - accuracy: 0.7323\n",
            "Epoch 196/200\n",
            "177/177 [==============================] - 2s 12ms/step - loss: 0.7266 - accuracy: 0.7323\n",
            "Epoch 197/200\n",
            "177/177 [==============================] - 2s 11ms/step - loss: 0.7275 - accuracy: 0.7351\n",
            "Epoch 198/200\n",
            "177/177 [==============================] - 2s 11ms/step - loss: 0.7257 - accuracy: 0.7367\n",
            "Epoch 199/200\n",
            "177/177 [==============================] - 2s 11ms/step - loss: 0.7278 - accuracy: 0.7332\n",
            "Epoch 200/200\n",
            "177/177 [==============================] - 2s 10ms/step - loss: 0.7234 - accuracy: 0.7381\n"
          ],
          "name": "stdout"
        }
      ]
    },
    {
      "cell_type": "code",
      "metadata": {
        "id": "d2NAc-iLWlv4",
        "outputId": "bcbf3f8d-9436-4b53-858a-907ff47bae4a",
        "colab": {
          "base_uri": "https://localhost:8080/",
          "height": 279
        }
      },
      "source": [
        "import matplotlib.pyplot as plt\n",
        "\n",
        "def plot_graph(model_train,string):\n",
        "  plt.plot(model_train.history[string])\n",
        "  plt.xlabel('Epochs')\n",
        "  plt.ylabel(string)\n",
        "  plt.show()\n",
        "\n",
        "plot_graph(model_train,'accuracy')"
      ],
      "execution_count": 130,
      "outputs": [
        {
          "output_type": "display_data",
          "data": {
            "image/png": "[encoded data removed]",
            "text/plain": [
              "<Figure size 432x288 with 1 Axes>"
            ]
          },
          "metadata": {
            "tags": [],
            "needs_background": "light"
          }
        }
      ]
    },
    {
      "cell_type": "markdown",
      "metadata": {
        "id": "eBanDEXXbE6x"
      },
      "source": [
        "We can see that the accuracy is constant after 100 epochs hence we can train the network between 100 and 120 epochs and get the same accuracy"
      ]
    },
    {
      "cell_type": "markdown",
      "metadata": {
        "id": "zVfrIz8kZ7MT"
      },
      "source": [
        "### Predictions"
      ]
    },
    {
      "cell_type": "code",
      "metadata": {
        "id": "zTU7i9BAaINj",
        "outputId": "c45a5c37-02e5-4390-8dba-10456fc698ff",
        "colab": {
          "base_uri": "https://localhost:8080/"
        }
      },
      "source": [
        "text=['are you','can you','do you need','are you free']\n",
        "next_words=5\n",
        "\n",
        "for words in text:\n",
        "  for _ in range(next_words):\n",
        "    token_list=tokenizer.texts_to_sequences([words])[0]\n",
        "    token_list=pad_sequences([token_list],maxlen=max_sequence_len-1,padding='pre')\n",
        "    predicted=np.argmax(model.predict(token_list),axis=1)\n",
        "    output_word=''\n",
        "    for word,index in tokenizer.word_index.items():\n",
        "      if index==predicted:\n",
        "        output_word=word\n",
        "        break\n",
        "    words+=' ,'+output_word\n",
        "  print(words)"
      ],
      "execution_count": 131,
      "outputs": [
        {
          "output_type": "stream",
          "text": [
            "are you ,going ,or ,not ,the ,way\n",
            "can you ,say ,that ,s ,life ,in\n",
            "do you need ,think ,it ,has ,nt ,be\n",
            "are you free ,going ,or ,not ,the ,way\n"
          ],
          "name": "stdout"
        }
      ]
    },
    {
      "cell_type": "code",
      "metadata": {
        "id": "NX-Em0vodvRq"
      },
      "source": [
        ""
      ],
      "execution_count": 131,
      "outputs": []
    },
    {
      "cell_type": "code",
      "metadata": {
        "id": "qTwblYDWaL-l"
      },
      "source": [
        ""
      ],
      "execution_count": 131,
      "outputs": []
    },
    {
      "cell_type": "code",
      "metadata": {
        "id": "8vbTema0bVQI"
      },
      "source": [
        ""
      ],
      "execution_count": null,
      "outputs": []
    }
  ]
}